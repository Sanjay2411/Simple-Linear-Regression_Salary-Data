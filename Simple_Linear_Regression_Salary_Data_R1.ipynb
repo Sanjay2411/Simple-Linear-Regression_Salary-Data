{
  "nbformat": 4,
  "nbformat_minor": 0,
  "metadata": {
    "colab": {
      "name": "Simple Linear Regression_Salary Data_R1.ipynb",
      "provenance": [],
      "collapsed_sections": [],
      "mount_file_id": "1-MNlRT_lhcFUF1S1fsWCoyJYS5vsRxQD",
      "authorship_tag": "ABX9TyOiAi1U3p503nGcQjX285wl",
      "include_colab_link": true
    },
    "kernelspec": {
      "name": "python3",
      "display_name": "Python 3"
    }
  },
  "cells": [
    {
      "cell_type": "markdown",
      "metadata": {
        "id": "view-in-github",
        "colab_type": "text"
      },
      "source": [
        "<a href=\"https://colab.research.google.com/github/Sanjay2411/Simple-Linear-Regression_Salary-Data/blob/master/Simple_Linear_Regression_Salary_Data_R1.ipynb\" target=\"_parent\"><img src=\"https://colab.research.google.com/assets/colab-badge.svg\" alt=\"Open In Colab\"/></a>"
      ]
    },
    {
      "cell_type": "code",
      "metadata": {
        "id": "6SMpDZKUDBtB",
        "colab_type": "code",
        "outputId": "bc9d0cb4-6c34-4a7b-b396-5a8737f4543a",
        "colab": {
          "base_uri": "https://localhost:8080/",
          "height": 196
        }
      },
      "source": [
        "# Simple Linear Regression\n",
        "\n",
        "# Importing the libraries\n",
        "import numpy as np\n",
        "import matplotlib.pyplot as plt\n",
        "import pandas as pd\n",
        "\n",
        "# Importing the dataset\n",
        "dataset = pd.read_csv('/content/drive/My Drive/Colab Notebooks/Machine Learning/Salary Data.csv')\n",
        "dataset.head()"
      ],
      "execution_count": 0,
      "outputs": [
        {
          "output_type": "execute_result",
          "data": {
            "text/html": [
              "<div>\n",
              "<style scoped>\n",
              "    .dataframe tbody tr th:only-of-type {\n",
              "        vertical-align: middle;\n",
              "    }\n",
              "\n",
              "    .dataframe tbody tr th {\n",
              "        vertical-align: top;\n",
              "    }\n",
              "\n",
              "    .dataframe thead th {\n",
              "        text-align: right;\n",
              "    }\n",
              "</style>\n",
              "<table border=\"1\" class=\"dataframe\">\n",
              "  <thead>\n",
              "    <tr style=\"text-align: right;\">\n",
              "      <th></th>\n",
              "      <th>Year</th>\n",
              "      <th>Salary</th>\n",
              "    </tr>\n",
              "  </thead>\n",
              "  <tbody>\n",
              "    <tr>\n",
              "      <th>0</th>\n",
              "      <td>2.40</td>\n",
              "      <td>1714</td>\n",
              "    </tr>\n",
              "    <tr>\n",
              "      <th>1</th>\n",
              "      <td>2.52</td>\n",
              "      <td>1664</td>\n",
              "    </tr>\n",
              "    <tr>\n",
              "      <th>2</th>\n",
              "      <td>2.54</td>\n",
              "      <td>1760</td>\n",
              "    </tr>\n",
              "    <tr>\n",
              "      <th>3</th>\n",
              "      <td>2.74</td>\n",
              "      <td>1685</td>\n",
              "    </tr>\n",
              "    <tr>\n",
              "      <th>4</th>\n",
              "      <td>2.83</td>\n",
              "      <td>1693</td>\n",
              "    </tr>\n",
              "  </tbody>\n",
              "</table>\n",
              "</div>"
            ],
            "text/plain": [
              "   Year  Salary\n",
              "0  2.40    1714\n",
              "1  2.52    1664\n",
              "2  2.54    1760\n",
              "3  2.74    1685\n",
              "4  2.83    1693"
            ]
          },
          "metadata": {
            "tags": []
          },
          "execution_count": 3
        }
      ]
    },
    {
      "cell_type": "code",
      "metadata": {
        "id": "PSHpQoXaD2Kh",
        "colab_type": "code",
        "outputId": "55c07861-bdeb-419b-c5d4-93ac2271a565",
        "colab": {
          "base_uri": "https://localhost:8080/",
          "height": 196
        }
      },
      "source": [
        "dataset.tail()\n"
      ],
      "execution_count": 0,
      "outputs": [
        {
          "output_type": "execute_result",
          "data": {
            "text/html": [
              "<div>\n",
              "<style scoped>\n",
              "    .dataframe tbody tr th:only-of-type {\n",
              "        vertical-align: middle;\n",
              "    }\n",
              "\n",
              "    .dataframe tbody tr th {\n",
              "        vertical-align: top;\n",
              "    }\n",
              "\n",
              "    .dataframe thead th {\n",
              "        text-align: right;\n",
              "    }\n",
              "</style>\n",
              "<table border=\"1\" class=\"dataframe\">\n",
              "  <thead>\n",
              "    <tr style=\"text-align: right;\">\n",
              "      <th></th>\n",
              "      <th>Year</th>\n",
              "      <th>Salary</th>\n",
              "    </tr>\n",
              "  </thead>\n",
              "  <tbody>\n",
              "    <tr>\n",
              "      <th>79</th>\n",
              "      <td>3.71</td>\n",
              "      <td>1936</td>\n",
              "    </tr>\n",
              "    <tr>\n",
              "      <th>80</th>\n",
              "      <td>3.71</td>\n",
              "      <td>1810</td>\n",
              "    </tr>\n",
              "    <tr>\n",
              "      <th>81</th>\n",
              "      <td>3.73</td>\n",
              "      <td>1987</td>\n",
              "    </tr>\n",
              "    <tr>\n",
              "      <th>82</th>\n",
              "      <td>3.76</td>\n",
              "      <td>1962</td>\n",
              "    </tr>\n",
              "    <tr>\n",
              "      <th>83</th>\n",
              "      <td>3.81</td>\n",
              "      <td>2050</td>\n",
              "    </tr>\n",
              "  </tbody>\n",
              "</table>\n",
              "</div>"
            ],
            "text/plain": [
              "    Year  Salary\n",
              "79  3.71    1936\n",
              "80  3.71    1810\n",
              "81  3.73    1987\n",
              "82  3.76    1962\n",
              "83  3.81    2050"
            ]
          },
          "metadata": {
            "tags": []
          },
          "execution_count": 4
        }
      ]
    },
    {
      "cell_type": "code",
      "metadata": {
        "id": "7X2lCYJED9I5",
        "colab_type": "code",
        "colab": {}
      },
      "source": [
        "X = dataset.iloc[:, :-1].values\n",
        "y = dataset.iloc[:, 1].values"
      ],
      "execution_count": 0,
      "outputs": []
    },
    {
      "cell_type": "code",
      "metadata": {
        "id": "UDTt8OA_EPZ5",
        "colab_type": "code",
        "outputId": "2e98bc55-3a94-42d6-eb6c-3bd12f2c87c4",
        "colab": {
          "base_uri": "https://localhost:8080/",
          "height": 1000
        }
      },
      "source": [
        "print(X)"
      ],
      "execution_count": 0,
      "outputs": [
        {
          "output_type": "stream",
          "text": [
            "[[2.4 ]\n",
            " [2.52]\n",
            " [2.54]\n",
            " [2.74]\n",
            " [2.83]\n",
            " [2.91]\n",
            " [3.  ]\n",
            " [3.  ]\n",
            " [3.01]\n",
            " [3.01]\n",
            " [3.02]\n",
            " [3.07]\n",
            " [3.08]\n",
            " [3.08]\n",
            " [3.12]\n",
            " [3.17]\n",
            " [3.17]\n",
            " [3.17]\n",
            " [3.17]\n",
            " [3.19]\n",
            " [3.19]\n",
            " [3.19]\n",
            " [3.2 ]\n",
            " [3.21]\n",
            " [3.24]\n",
            " [3.28]\n",
            " [3.28]\n",
            " [3.28]\n",
            " [3.28]\n",
            " [3.28]\n",
            " [3.28]\n",
            " [3.28]\n",
            " [3.29]\n",
            " [3.29]\n",
            " [3.29]\n",
            " [3.31]\n",
            " [3.32]\n",
            " [3.34]\n",
            " [3.37]\n",
            " [3.37]\n",
            " [3.37]\n",
            " [3.38]\n",
            " [3.38]\n",
            " [3.39]\n",
            " [3.39]\n",
            " [3.4 ]\n",
            " [3.4 ]\n",
            " [3.4 ]\n",
            " [3.41]\n",
            " [3.41]\n",
            " [3.41]\n",
            " [3.42]\n",
            " [3.42]\n",
            " [3.42]\n",
            " [3.44]\n",
            " [3.47]\n",
            " [3.47]\n",
            " [3.47]\n",
            " [3.47]\n",
            " [3.48]\n",
            " [3.49]\n",
            " [3.49]\n",
            " [3.5 ]\n",
            " [3.51]\n",
            " [3.51]\n",
            " [3.52]\n",
            " [3.52]\n",
            " [3.54]\n",
            " [3.58]\n",
            " [3.58]\n",
            " [3.59]\n",
            " [3.59]\n",
            " [3.6 ]\n",
            " [3.6 ]\n",
            " [3.61]\n",
            " [3.62]\n",
            " [3.64]\n",
            " [3.65]\n",
            " [3.71]\n",
            " [3.71]\n",
            " [3.71]\n",
            " [3.73]\n",
            " [3.76]\n",
            " [3.81]]\n"
          ],
          "name": "stdout"
        }
      ]
    },
    {
      "cell_type": "code",
      "metadata": {
        "id": "MWLsD4TGFDok",
        "colab_type": "code",
        "outputId": "e298a418-ad58-41ae-8c37-95a675d4cb90",
        "colab": {
          "base_uri": "https://localhost:8080/",
          "height": 117
        }
      },
      "source": [
        "print(y)"
      ],
      "execution_count": 0,
      "outputs": [
        {
          "output_type": "stream",
          "text": [
            "[1714 1664 1760 1685 1693 1670 1764 1764 1792 1850 1735 1775 1735 1712\n",
            " 1773 1872 1755 1674 1842 1786 1761 1722 1663 1687 1974 1826 1787 1821\n",
            " 2020 1794 1769 1934 1775 1855 1880 1849 1808 1954 1777 1831 1865 1850\n",
            " 1966 1702 1990 1925 1824 1956 1857 1979 1802 1855 1907 1634 1879 1887\n",
            " 1730 1953 1781 1891 1964 1808 1893 2041 1893 1832 1850 1934 1861 1931\n",
            " 1933 1778 1975 1934 2021 2015 1997 2020 1843 1936 1810 1987 1962 2050]\n"
          ],
          "name": "stdout"
        }
      ]
    },
    {
      "cell_type": "code",
      "metadata": {
        "id": "iFNfMTNYFQ0s",
        "colab_type": "code",
        "colab": {}
      },
      "source": [
        "# Splitting the dataset into the Training set and Test set\n",
        "from sklearn.model_selection import train_test_split\n",
        "X_train, X_test, y_train, y_test = train_test_split(X, y, test_size = 1/3, random_state = 0)"
      ],
      "execution_count": 0,
      "outputs": []
    },
    {
      "cell_type": "code",
      "metadata": {
        "id": "SASPK7YqFdlM",
        "colab_type": "code",
        "outputId": "d45e98f9-b28d-4042-f5e0-e7c61b513e62",
        "colab": {
          "base_uri": "https://localhost:8080/",
          "height": 53
        }
      },
      "source": [
        "# Feature Scaling\n",
        "\"\"\"from sklearn.preprocessing import StandardScaler\n",
        "sc_X = StandardScaler()\n",
        "X_train = sc_X.fit_transform(X_train)\n",
        "X_test = sc_X.transform(X_test)\n",
        "sc_y = StandardScaler()\n",
        "y_train = sc_y.fit_transform(y_train)\"\"\""
      ],
      "execution_count": 0,
      "outputs": [
        {
          "output_type": "execute_result",
          "data": {
            "text/plain": [
              "'from sklearn.preprocessing import StandardScaler\\nsc_X = StandardScaler()\\nX_train = sc_X.fit_transform(X_train)\\nX_test = sc_X.transform(X_test)\\nsc_y = StandardScaler()\\ny_train = sc_y.fit_transform(y_train)'"
            ]
          },
          "metadata": {
            "tags": []
          },
          "execution_count": 21
        }
      ]
    },
    {
      "cell_type": "code",
      "metadata": {
        "id": "shqMUFxIGpib",
        "colab_type": "code",
        "outputId": "4aa1044a-38b3-475a-8089-56ebdfb9b2e7",
        "colab": {
          "base_uri": "https://localhost:8080/",
          "height": 953
        }
      },
      "source": [
        "X_train"
      ],
      "execution_count": 0,
      "outputs": [
        {
          "output_type": "execute_result",
          "data": {
            "text/plain": [
              "array([[2.74],\n",
              "       [3.58],\n",
              "       [3.48],\n",
              "       [3.  ],\n",
              "       [3.29],\n",
              "       [3.42],\n",
              "       [3.49],\n",
              "       [2.83],\n",
              "       [3.17],\n",
              "       [3.17],\n",
              "       [3.37],\n",
              "       [2.91],\n",
              "       [3.64],\n",
              "       [3.38],\n",
              "       [2.4 ],\n",
              "       [3.29],\n",
              "       [3.28],\n",
              "       [3.07],\n",
              "       [3.5 ],\n",
              "       [3.21],\n",
              "       [3.02],\n",
              "       [3.28],\n",
              "       [3.42],\n",
              "       [3.71],\n",
              "       [2.52],\n",
              "       [3.29],\n",
              "       [3.59],\n",
              "       [3.12],\n",
              "       [3.47],\n",
              "       [3.19],\n",
              "       [3.28],\n",
              "       [3.42],\n",
              "       [3.41],\n",
              "       [3.24],\n",
              "       [3.31],\n",
              "       [3.17],\n",
              "       [3.73],\n",
              "       [3.76],\n",
              "       [3.19],\n",
              "       [3.71],\n",
              "       [3.28],\n",
              "       [3.34],\n",
              "       [3.4 ],\n",
              "       [3.37],\n",
              "       [3.52],\n",
              "       [3.47],\n",
              "       [3.08],\n",
              "       [3.59],\n",
              "       [3.32],\n",
              "       [3.19],\n",
              "       [3.01],\n",
              "       [3.71],\n",
              "       [3.54],\n",
              "       [3.51],\n",
              "       [3.4 ],\n",
              "       [3.39]])"
            ]
          },
          "metadata": {
            "tags": []
          },
          "execution_count": 23
        }
      ]
    },
    {
      "cell_type": "code",
      "metadata": {
        "id": "tROkutVEHEou",
        "colab_type": "code",
        "outputId": "de47f313-03c1-4937-8cd3-6606f4e29ebe",
        "colab": {
          "base_uri": "https://localhost:8080/",
          "height": 485
        }
      },
      "source": [
        "X_test"
      ],
      "execution_count": 0,
      "outputs": [
        {
          "output_type": "execute_result",
          "data": {
            "text/plain": [
              "array([[3.28],\n",
              "       [3.37],\n",
              "       [3.39],\n",
              "       [3.41],\n",
              "       [3.2 ],\n",
              "       [3.44],\n",
              "       [2.54],\n",
              "       [3.47],\n",
              "       [3.28],\n",
              "       [3.01],\n",
              "       [3.58],\n",
              "       [3.08],\n",
              "       [3.52],\n",
              "       [3.65],\n",
              "       [3.17],\n",
              "       [3.28],\n",
              "       [3.62],\n",
              "       [3.6 ],\n",
              "       [3.41],\n",
              "       [3.61],\n",
              "       [3.81],\n",
              "       [3.49],\n",
              "       [3.38],\n",
              "       [3.51],\n",
              "       [3.47],\n",
              "       [3.4 ],\n",
              "       [3.6 ],\n",
              "       [3.  ]])"
            ]
          },
          "metadata": {
            "tags": []
          },
          "execution_count": 24
        }
      ]
    },
    {
      "cell_type": "code",
      "metadata": {
        "id": "SSIFTlb-HauH",
        "colab_type": "code",
        "outputId": "a61228bf-a193-4c97-df43-51ad8859c9f1",
        "colab": {
          "base_uri": "https://localhost:8080/",
          "height": 117
        }
      },
      "source": [
        "y_train"
      ],
      "execution_count": 0,
      "outputs": [
        {
          "output_type": "execute_result",
          "data": {
            "text/plain": [
              "array([1685, 1861, 1891, 1764, 1855, 1907, 1964, 1693, 1872, 1674, 1777,\n",
              "       1670, 1997, 1966, 1714, 1880, 2020, 1775, 1893, 1687, 1735, 1934,\n",
              "       1634, 1936, 1664, 1775, 1778, 1773, 1953, 1786, 1794, 1855, 1979,\n",
              "       1974, 1849, 1842, 1987, 1962, 1761, 1843, 1826, 1954, 1824, 1831,\n",
              "       1832, 1781, 1735, 1933, 1808, 1722, 1850, 1810, 1934, 1893, 1956,\n",
              "       1990])"
            ]
          },
          "metadata": {
            "tags": []
          },
          "execution_count": 25
        }
      ]
    },
    {
      "cell_type": "code",
      "metadata": {
        "id": "MJktRn4CHeJ5",
        "colab_type": "code",
        "outputId": "a3183e17-ccd1-4d18-f271-9eff815e1aab",
        "colab": {
          "base_uri": "https://localhost:8080/",
          "height": 67
        }
      },
      "source": [
        "y_test"
      ],
      "execution_count": 0,
      "outputs": [
        {
          "output_type": "execute_result",
          "data": {
            "text/plain": [
              "array([1769, 1865, 1702, 1802, 1663, 1879, 1760, 1730, 1787, 1792, 1931,\n",
              "       1712, 1850, 2020, 1755, 1821, 2015, 1934, 1857, 2021, 2050, 1808,\n",
              "       1850, 2041, 1887, 1925, 1975, 1764])"
            ]
          },
          "metadata": {
            "tags": []
          },
          "execution_count": 26
        }
      ]
    },
    {
      "cell_type": "code",
      "metadata": {
        "id": "UY2ByUGcHr9l",
        "colab_type": "code",
        "outputId": "ae90beb4-9080-4031-cffa-220cf8779cf0",
        "colab": {
          "base_uri": "https://localhost:8080/",
          "height": 33
        }
      },
      "source": [
        "# Fitting Simple Linear Regression to the Training set\n",
        "from sklearn.linear_model import LinearRegression\n",
        "regressor = LinearRegression()\n",
        "regressor.fit(X_train, y_train)"
      ],
      "execution_count": 0,
      "outputs": [
        {
          "output_type": "execute_result",
          "data": {
            "text/plain": [
              "LinearRegression(copy_X=True, fit_intercept=True, n_jobs=None, normalize=False)"
            ]
          },
          "metadata": {
            "tags": []
          },
          "execution_count": 27
        }
      ]
    },
    {
      "cell_type": "code",
      "metadata": {
        "id": "mr-hX-NDH136",
        "colab_type": "code",
        "outputId": "48990273-e93e-455f-b9b9-a9057a95e424",
        "colab": {
          "base_uri": "https://localhost:8080/",
          "height": 33
        }
      },
      "source": [
        "# Fitting Simple Linear Regression to the Training set\n",
        "from sklearn.linear_model import LinearRegression\n",
        "regressor = LinearRegression()\n",
        "regressor.fit(X_train, y_train)"
      ],
      "execution_count": 0,
      "outputs": [
        {
          "output_type": "execute_result",
          "data": {
            "text/plain": [
              "LinearRegression(copy_X=True, fit_intercept=True, n_jobs=None, normalize=False)"
            ]
          },
          "metadata": {
            "tags": []
          },
          "execution_count": 28
        }
      ]
    },
    {
      "cell_type": "code",
      "metadata": {
        "id": "LlHVBN0wISke",
        "colab_type": "code",
        "outputId": "ad35d335-e05b-4360-b07c-7688ac798835",
        "colab": {
          "base_uri": "https://localhost:8080/",
          "height": 1000
        }
      },
      "source": [
        "X_train,y_train"
      ],
      "execution_count": 0,
      "outputs": [
        {
          "output_type": "execute_result",
          "data": {
            "text/plain": [
              "(array([[2.74],\n",
              "        [3.58],\n",
              "        [3.48],\n",
              "        [3.  ],\n",
              "        [3.29],\n",
              "        [3.42],\n",
              "        [3.49],\n",
              "        [2.83],\n",
              "        [3.17],\n",
              "        [3.17],\n",
              "        [3.37],\n",
              "        [2.91],\n",
              "        [3.64],\n",
              "        [3.38],\n",
              "        [2.4 ],\n",
              "        [3.29],\n",
              "        [3.28],\n",
              "        [3.07],\n",
              "        [3.5 ],\n",
              "        [3.21],\n",
              "        [3.02],\n",
              "        [3.28],\n",
              "        [3.42],\n",
              "        [3.71],\n",
              "        [2.52],\n",
              "        [3.29],\n",
              "        [3.59],\n",
              "        [3.12],\n",
              "        [3.47],\n",
              "        [3.19],\n",
              "        [3.28],\n",
              "        [3.42],\n",
              "        [3.41],\n",
              "        [3.24],\n",
              "        [3.31],\n",
              "        [3.17],\n",
              "        [3.73],\n",
              "        [3.76],\n",
              "        [3.19],\n",
              "        [3.71],\n",
              "        [3.28],\n",
              "        [3.34],\n",
              "        [3.4 ],\n",
              "        [3.37],\n",
              "        [3.52],\n",
              "        [3.47],\n",
              "        [3.08],\n",
              "        [3.59],\n",
              "        [3.32],\n",
              "        [3.19],\n",
              "        [3.01],\n",
              "        [3.71],\n",
              "        [3.54],\n",
              "        [3.51],\n",
              "        [3.4 ],\n",
              "        [3.39]]),\n",
              " array([1685, 1861, 1891, 1764, 1855, 1907, 1964, 1693, 1872, 1674, 1777,\n",
              "        1670, 1997, 1966, 1714, 1880, 2020, 1775, 1893, 1687, 1735, 1934,\n",
              "        1634, 1936, 1664, 1775, 1778, 1773, 1953, 1786, 1794, 1855, 1979,\n",
              "        1974, 1849, 1842, 1987, 1962, 1761, 1843, 1826, 1954, 1824, 1831,\n",
              "        1832, 1781, 1735, 1933, 1808, 1722, 1850, 1810, 1934, 1893, 1956,\n",
              "        1990]))"
            ]
          },
          "metadata": {
            "tags": []
          },
          "execution_count": 29
        }
      ]
    },
    {
      "cell_type": "code",
      "metadata": {
        "id": "qP9fPsUyIf90",
        "colab_type": "code",
        "outputId": "45115797-3328-4b07-a59d-1c29704fb32d",
        "colab": {
          "base_uri": "https://localhost:8080/",
          "height": 281
        }
      },
      "source": [
        "# Visualising the Training set results\n",
        "plt.scatter(X_train, y_train, color = 'red')\n",
        "plt.plot(X_train, regressor.predict(X_train), color = 'blue')"
      ],
      "execution_count": 0,
      "outputs": [
        {
          "output_type": "execute_result",
          "data": {
            "text/plain": [
              "[<matplotlib.lines.Line2D at 0x7f67c230cb00>]"
            ]
          },
          "metadata": {
            "tags": []
          },
          "execution_count": 30
        },
        {
          "output_type": "display_data",
          "data": {
            "image/png": "[encoded data removed]",
            "text/plain": [
              "<Figure size 432x288 with 1 Axes>"
            ]
          },
          "metadata": {
            "tags": [],
            "needs_background": "light"
          }
        }
      ]
    },
    {
      "cell_type": "code",
      "metadata": {
        "id": "xH5LQ2bSI2dw",
        "colab_type": "code",
        "outputId": "b5334b97-2603-405b-f694-33991784aeb7",
        "colab": {
          "base_uri": "https://localhost:8080/",
          "height": 295
        }
      },
      "source": [
        "# Visualising the Test set results\n",
        "plt.scatter(X_test, y_test, color = 'red')\n",
        "plt.plot(X_train, regressor.predict(X_train), color = 'blue')\n",
        "plt.title('Salary vs Experience (Test set)')\n",
        "plt.xlabel('Years of Experience')\n",
        "plt.ylabel('Salary')\n",
        "plt.show()"
      ],
      "execution_count": 0,
      "outputs": [
        {
          "output_type": "display_data",
          "data": {
            "image/png": "[encoded data removed]",
            "text/plain": [
              "<Figure size 432x288 with 1 Axes>"
            ]
          },
          "metadata": {
            "tags": [],
            "needs_background": "light"
          }
        }
      ]
    }
  ]
}